{
  "nbformat": 4,
  "nbformat_minor": 0,
  "metadata": {
    "colab": {
      "provenance": [],
      "authorship_tag": "ABX9TyNCvkjoHbJgyybf5PYv1qgn",
      "include_colab_link": true
    },
    "kernelspec": {
      "name": "python3",
      "display_name": "Python 3"
    },
    "language_info": {
      "name": "python"
    }
  },
  "cells": [
    {
      "cell_type": "markdown",
      "metadata": {
        "id": "view-in-github",
        "colab_type": "text"
      },
      "source": [
        "<a href=\"https://colab.research.google.com/github/KalusaniLaxman/ADM/blob/main/Untitled37.ipynb\" target=\"_parent\"><img src=\"https://colab.research.google.com/assets/colab-badge.svg\" alt=\"Open In Colab\"/></a>"
      ]
    },
    {
      "cell_type": "code",
      "source": [
        "import pandas as pd\n",
        "from sklearn.preprocessing import LabelEncoder\n",
        "from datetime import datetime"
      ],
      "metadata": {
        "id": "BwbwY27_R8S_"
      },
      "execution_count": 28,
      "outputs": []
    },
    {
      "cell_type": "code",
      "source": [
        "# 1. Data Encoding\n",
        "data = {\n",
        "    'Category': ['A', 'B', 'C', 'A', 'B', 'C', 'A', 'B', 'C', 'A'],\n",
        "    'Subcategory': ['X', 'Y', 'Z', 'X', 'Y', 'Z', 'X', 'Y', 'Z', 'X']\n",
        "}"
      ],
      "metadata": {
        "id": "2XrSNkIVSAPI"
      },
      "execution_count": 15,
      "outputs": []
    },
    {
      "cell_type": "code",
      "source": [
        "df = pd.DataFrame(data)\n"
      ],
      "metadata": {
        "id": "hIDoW1-bSJ4L"
      },
      "execution_count": 16,
      "outputs": []
    },
    {
      "cell_type": "code",
      "source": [
        "# Label Encoding\n",
        "label_encoder = LabelEncoder()\n",
        "df['Category_Label'] = label_encoder.fit_transform(df['Category'])\n",
        "df['Subcategory_Label'] = label_encoder.fit_transform(df['Subcategory'])"
      ],
      "metadata": {
        "id": "E-lBW6gVSYa4"
      },
      "execution_count": 17,
      "outputs": []
    },
    {
      "cell_type": "code",
      "source": [
        "# One-hot Encoding\n",
        "one_hot_encoded = pd.get_dummies(df[['Category', 'Subcategory']], prefix=['Category', 'Subcategory'])\n",
        "df = pd.concat([df, one_hot_encoded], axis=1)"
      ],
      "metadata": {
        "id": "pmu_XELHSgjj"
      },
      "execution_count": 18,
      "outputs": []
    },
    {
      "cell_type": "code",
      "source": [
        "print(\"Data Encoding Output:\\n\", df)"
      ],
      "metadata": {
        "colab": {
          "base_uri": "https://localhost:8080/",
          "height": 0
        },
        "id": "7fVa4iv3Sq8v",
        "outputId": "4f38361a-b4e1-4ee4-94bf-2035f0cb0ad2"
      },
      "execution_count": 19,
      "outputs": [
        {
          "output_type": "stream",
          "name": "stdout",
          "text": [
            "Data Encoding Output:\n",
            "   Category Subcategory  Category_Label  Subcategory_Label  Category_A  \\\n",
            "0        A           X               0                  0        True   \n",
            "1        B           Y               1                  1       False   \n",
            "2        C           Z               2                  2       False   \n",
            "3        A           X               0                  0        True   \n",
            "4        B           Y               1                  1       False   \n",
            "5        C           Z               2                  2       False   \n",
            "6        A           X               0                  0        True   \n",
            "7        B           Y               1                  1       False   \n",
            "8        C           Z               2                  2       False   \n",
            "9        A           X               0                  0        True   \n",
            "\n",
            "   Category_B  Category_C  Subcategory_X  Subcategory_Y  Subcategory_Z  \n",
            "0       False       False           True          False          False  \n",
            "1        True       False          False           True          False  \n",
            "2       False        True          False          False           True  \n",
            "3       False       False           True          False          False  \n",
            "4        True       False          False           True          False  \n",
            "5       False        True          False          False           True  \n",
            "6       False       False           True          False          False  \n",
            "7        True       False          False           True          False  \n",
            "8       False        True          False          False           True  \n",
            "9       False       False           True          False          False  \n"
          ]
        }
      ]
    },
    {
      "cell_type": "code",
      "source": [
        "# 2. Creating Derived Columns\n",
        "data = {\n",
        "    'Name': ['Alice', 'Bob', 'Charlie', 'David', 'Eve', 'Frank', 'Grace', 'Helen', 'Ian', 'Jack'],\n",
        "    'Date_of_Birth': ['1990-05-14', '1985-08-23', '1992-11-30', '1988-04-15', '1995-07-19',\n",
        "                       '1983-01-10', '1997-06-25', '1980-12-03', '1993-03-29', '1991-09-17']\n",
        "}\n",
        "df = pd.DataFrame(data)"
      ],
      "metadata": {
        "id": "PkX4Xod5Sxyx"
      },
      "execution_count": 20,
      "outputs": []
    },
    {
      "cell_type": "code",
      "source": [
        "# Convert Date_of_Birth to datetime\n",
        "df['Date_of_Birth'] = pd.to_datetime(df['Date_of_Birth'])"
      ],
      "metadata": {
        "id": "ruquWDGFS3i6"
      },
      "execution_count": 21,
      "outputs": []
    },
    {
      "cell_type": "code",
      "source": [
        "# Calculate Age\n",
        "current_year = datetime.now().year\n",
        "df['Age'] = current_year - df['Date_of_Birth'].dt.year"
      ],
      "metadata": {
        "id": "mqOPnzxAS-zk"
      },
      "execution_count": 22,
      "outputs": []
    },
    {
      "cell_type": "code",
      "source": [
        "# Calculate Age\n",
        "current_year = datetime.now().year\n",
        "df['Age'] = current_year - df['Date_of_Birth'].dt.year\n",
        "print(\"\\nDerived Columns Output:\\n\", df)\n"
      ],
      "metadata": {
        "colab": {
          "base_uri": "https://localhost:8080/",
          "height": 0
        },
        "id": "k5Gl29DNTD3d",
        "outputId": "500abce6-8c0f-47b3-9b3d-9da3eb88983e"
      },
      "execution_count": 24,
      "outputs": [
        {
          "output_type": "stream",
          "name": "stdout",
          "text": [
            "\n",
            "Derived Columns Output:\n",
            "       Name Date_of_Birth  Age\n",
            "0    Alice    1990-05-14   35\n",
            "1      Bob    1985-08-23   40\n",
            "2  Charlie    1992-11-30   33\n",
            "3    David    1988-04-15   37\n",
            "4      Eve    1995-07-19   30\n",
            "5    Frank    1983-01-10   42\n",
            "6    Grace    1997-06-25   28\n",
            "7    Helen    1980-12-03   45\n",
            "8      Ian    1993-03-29   32\n",
            "9     Jack    1991-09-17   34\n"
          ]
        }
      ]
    },
    {
      "cell_type": "code",
      "source": [
        "# 3. Grouping and Aggregating Data\n",
        "data = {\n",
        "    'Category': ['A', 'A', 'B', 'B', 'C', 'A', 'B', 'C', 'C', 'A'],\n",
        "    'Subcategory': ['X', 'Y', 'Z', 'X', 'Y', 'X', 'Z', 'Y', 'Z', 'X'],\n",
        "    'Value': [10, 20, 10, 30, 40, 15, 25, 35, 45, 50]\n",
        "}\n",
        "df = pd.DataFrame(data)"
      ],
      "metadata": {
        "id": "FJNY7EDpTO4z"
      },
      "execution_count": 25,
      "outputs": []
    },
    {
      "cell_type": "code",
      "source": [
        "# Group by and aggregate\n",
        "grouped = df.groupby(['Category', 'Subcategory']).agg({'Value': ['sum', 'mean', 'count']})\n",
        "print(\"\\nGrouped Data:\\n\", grouped)"
      ],
      "metadata": {
        "colab": {
          "base_uri": "https://localhost:8080/",
          "height": 0
        },
        "id": "X4qyhhc6TVO0",
        "outputId": "4e78ca9f-a36c-46fb-bec8-cf1a53c436f2"
      },
      "execution_count": 26,
      "outputs": [
        {
          "output_type": "stream",
          "name": "stdout",
          "text": [
            "\n",
            "Grouped Data:\n",
            "                      Value            \n",
            "                       sum  mean count\n",
            "Category Subcategory                  \n",
            "A        X              75  25.0     3\n",
            "         Y              20  20.0     1\n",
            "B        X              30  30.0     1\n",
            "         Z              35  17.5     2\n",
            "C        Y              75  37.5     2\n",
            "         Z              45  45.0     1\n"
          ]
        }
      ]
    },
    {
      "cell_type": "code",
      "source": [
        "# Pivot table\n",
        "pivot = df.pivot_table(index='Category', columns='Subcategory', values='Value', aggfunc=['sum', 'mean'])\n",
        "print(\"\\nPivot Table:\\n\", pivot)"
      ],
      "metadata": {
        "colab": {
          "base_uri": "https://localhost:8080/",
          "height": 0
        },
        "id": "GnXIk15VTagk",
        "outputId": "f75bcfa7-7864-42c5-c4a0-faf1ef4deeb6"
      },
      "execution_count": 27,
      "outputs": [
        {
          "output_type": "stream",
          "name": "stdout",
          "text": [
            "\n",
            "Pivot Table:\n",
            "               sum              mean            \n",
            "Subcategory     X     Y     Z     X     Y     Z\n",
            "Category                                       \n",
            "A            75.0  20.0   NaN  25.0  20.0   NaN\n",
            "B            30.0   NaN  35.0  30.0   NaN  17.5\n",
            "C             NaN  75.0  45.0   NaN  37.5  45.0\n"
          ]
        }
      ]
    },
    {
      "cell_type": "code",
      "source": [
        "import pandas as pd\n",
        "from sklearn.preprocessing import LabelEncoder\n",
        "from datetime import datetime\n",
        "\n",
        "data = {\n",
        "    'Employee_ID': [101, 102, 103, 104, 105],\n",
        "    'Department': ['HR', 'IT', 'Finance', 'Sales', 'IT'],\n",
        "    'Joining_Date': ['2015-06-15', '2018-09-10', '2012-04-23', '2020-11-30', '2016-08-25'],\n",
        "    'Salary': [50000, 70000, 65000, 45000, 72000]\n",
        "}\n",
        "df = pd.DataFrame(data)\n",
        "\n",
        "df['Joining_Date'] = pd.to_datetime(df['Joining_Date'])\n",
        "\n",
        "current_year = datetime.now().year\n",
        "df['Years_Experience'] = current_year - df['Joining_Date'].dt.year\n",
        "\n",
        "label_encoder = LabelEncoder()\n",
        "df['Label_Encoded'] = label_encoder.fit_transform(df['Department'])\n",
        "\n",
        "df = pd.concat([df, pd.get_dummies(df['Department'], prefix='Dept')], axis=1)\n",
        "\n",
        "grouped = df.groupby('Department').agg({'Salary': ['sum', 'mean'], 'Years_Experience': ['mean']})\n",
        "\n",
        "pivot = df.pivot_table(index='Department', values=['Salary', 'Years_Experience'], aggfunc=['sum', 'mean'])\n",
        "\n",
        "print(\"Transformed Data:\")\n",
        "print(df)\n",
        "print(\"\\n\\n\\nGrouped Data:\")\n",
        "print(grouped)\n",
        "print(\"\\n\\n\\nPivot Table:\")\n",
        "print(pivot)\n"
      ],
      "metadata": {
        "colab": {
          "base_uri": "https://localhost:8080/",
          "height": 0
        },
        "id": "T471HgmHU3k7",
        "outputId": "495624cd-4440-490e-a19e-a42773648f66"
      },
      "execution_count": 29,
      "outputs": [
        {
          "output_type": "stream",
          "name": "stdout",
          "text": [
            "Transformed Data:\n",
            "   Employee_ID Department Joining_Date  Salary  Years_Experience  \\\n",
            "0          101         HR   2015-06-15   50000                10   \n",
            "1          102         IT   2018-09-10   70000                 7   \n",
            "2          103    Finance   2012-04-23   65000                13   \n",
            "3          104      Sales   2020-11-30   45000                 5   \n",
            "4          105         IT   2016-08-25   72000                 9   \n",
            "\n",
            "   Label_Encoded  Dept_Finance  Dept_HR  Dept_IT  Dept_Sales  \n",
            "0              1         False     True    False       False  \n",
            "1              2         False    False     True       False  \n",
            "2              0          True    False    False       False  \n",
            "3              3         False    False    False        True  \n",
            "4              2         False    False     True       False  \n",
            "\n",
            "\n",
            "\n",
            "Grouped Data:\n",
            "            Salary          Years_Experience\n",
            "               sum     mean             mean\n",
            "Department                                  \n",
            "Finance      65000  65000.0             13.0\n",
            "HR           50000  50000.0             10.0\n",
            "IT          142000  71000.0              8.0\n",
            "Sales        45000  45000.0              5.0\n",
            "\n",
            "\n",
            "\n",
            "Pivot Table:\n",
            "               sum                      mean                 \n",
            "            Salary Years_Experience   Salary Years_Experience\n",
            "Department                                                   \n",
            "Finance      65000               13  65000.0             13.0\n",
            "HR           50000               10  50000.0             10.0\n",
            "IT          142000               16  71000.0              8.0\n",
            "Sales        45000                5  45000.0              5.0\n"
          ]
        }
      ]
    }
  ]
}
